{
  "nbformat": 4,
  "nbformat_minor": 0,
  "metadata": {
    "colab": {
      "provenance": [],
      "authorship_tag": "ABX9TyMlWIqa8xM1S+Susr7/Y9A8",
      "include_colab_link": true
    },
    "kernelspec": {
      "name": "python3",
      "display_name": "Python 3"
    },
    "language_info": {
      "name": "python"
    }
  },
  "cells": [
    {
      "cell_type": "markdown",
      "metadata": {
        "id": "view-in-github",
        "colab_type": "text"
      },
      "source": [
        "<a href=\"https://colab.research.google.com/github/th2ol/Agenda/blob/main/Atividade22_02_24.ipynb\" target=\"_parent\"><img src=\"https://colab.research.google.com/assets/colab-badge.svg\" alt=\"Open In Colab\"/></a>"
      ]
    },
    {
      "cell_type": "markdown",
      "source": [
        "##Atividade 22/02/24\n",
        "Thiago Hansell\n",
        "\n",
        "Turma 2OL"
      ],
      "metadata": {
        "id": "v0n7zYh69HJx"
      }
    },
    {
      "cell_type": "code",
      "execution_count": 13,
      "metadata": {
        "id": "wfctxIs5Lg5T",
        "colab": {
          "base_uri": "https://localhost:8080/"
        },
        "outputId": "480f98ba-8a62-41aa-cd28-d8f692629f3e"
      },
      "outputs": [
        {
          "output_type": "stream",
          "name": "stdout",
          "text": [
            "valor a ser verificado: 9\n",
            "9.0 não está entre 10 e 20\n"
          ]
        }
      ],
      "source": [
        "# 1. Escreva um programa que solicita ao usuário para inserir um número e, em seguida, verifica se o número está entre 10 e 20.\n",
        "\n",
        "x = float(input(\"valor a ser verificado: \"))\n",
        "if not 10<=x<=20:\n",
        "  print(x, \"não está entre 10 e 20\")\n",
        "else:\n",
        "  print(x, \"está entre 10 e 20\")"
      ]
    },
    {
      "cell_type": "code",
      "source": [
        "# 2. Escreva um programa que pede a idade de uma pessoa e se ela tem autorização dos pais para assistir a um filme classificado como \"para maiores de 18\".\n",
        "\n",
        "idade = float(input(\"idade: \"))\n",
        "pais = input(\"Tem autorização? 《\")\n",
        "print()\n",
        "\n",
        "if pais == \"sim\" and idade > 18:\n",
        "  print(\"faixa etária indicada e tem a autorização dos pais.\")\n",
        "\n",
        "elif idade < 18:\n",
        "  print(\"Menor de idade.\")\n",
        "\n",
        "else:\n",
        "  print(\"Não tem autorização dos pais.\")"
      ],
      "metadata": {
        "colab": {
          "base_uri": "https://localhost:8080/"
        },
        "id": "fK_pL4KQPgnz",
        "outputId": "9c48876d-d6aa-4a48-f3a4-2e039d403ab9"
      },
      "execution_count": 56,
      "outputs": [
        {
          "output_type": "stream",
          "name": "stdout",
          "text": [
            "idade: 19\n",
            "Tem autorização? 《não \n",
            "\n",
            "Não tem autorização dos pais.\n"
          ]
        }
      ]
    },
    {
      "cell_type": "code",
      "source": [
        "# 3. Escreva um programa que solicita ao usuário para inserir um número e, em seguida, verifica se o número é positivo e ímpar.\n",
        "\n",
        "x = float(input(\"Número: \"))\n",
        "if x > 0 and x%2 != 0:\n",
        "  print(\"O número\", x, \"é positivo e ímpar.\")\n",
        "else:\n",
        "  print(\"O número\", x, \"não é positivo e ímpar.\")"
      ],
      "metadata": {
        "colab": {
          "base_uri": "https://localhost:8080/"
        },
        "id": "ugBlZz-BQWsQ",
        "outputId": "40ac7e5b-4383-4c85-bbac-67c37a7979e3"
      },
      "execution_count": null,
      "outputs": [
        {
          "output_type": "stream",
          "name": "stdout",
          "text": [
            "Número: -9\n",
            "O número -9.0 não é positivo e ímpar.\n"
          ]
        }
      ]
    },
    {
      "cell_type": "code",
      "source": [
        "# 4. Faça um programa que determine se um triângulo é equilátero, isósceles ou escaleno.\n",
        "\n",
        "# Sabemos que:\n",
        "# • Triângulo Equilátero: três lados iguais;\n",
        "# • Triângulo Isósceles: quaisquer dois lados iguais;\n",
        "# • Triângulo Escaleno: três lados diferentes;\n",
        "\n",
        "a = float(input(\"Lado a: \"))\n",
        "b = float(input(\"Lado b: \"))\n",
        "c = float(input(\"Lado c: \"))\n",
        "print()\n",
        "if a == b == c:\n",
        "  print(\"O triângulo é equilátero.\")\n",
        "elif a == b != c or a == c != b or a != b == c:\n",
        "  print(\"O triângulo é isórceles.\")\n",
        "else:\n",
        "  print(\"O triângulo é escaleno.\")"
      ],
      "metadata": {
        "colab": {
          "base_uri": "https://localhost:8080/"
        },
        "id": "iDmqQWdNTlhq",
        "outputId": "bdcc81ba-8ff5-4b1e-b654-17489a562edf"
      },
      "execution_count": 14,
      "outputs": [
        {
          "output_type": "stream",
          "name": "stdout",
          "text": [
            "Lado a: 3\n",
            "Lado b: 2\n",
            "Lado c: 3\n",
            "\n",
            "O triângulo é isórceles.\n"
          ]
        }
      ]
    },
    {
      "cell_type": "code",
      "source": [
        "# 5. Suponha que em uma cidade fictícia, existe uma restrição de uso de carros com base no último dígito de suas placas. A regra é a seguinte:\n",
        "\n",
        "   #Carros cujo último dígito da placa seja 1 ou 2 só podem circular às segundas-feiras.\n",
        "   #Carros cujo último dígito da placa seja 3 ou 4 só podem circular às terças-feiras.\n",
        "   #Carros cujo último dígito da placa seja 5 ou 6 só podem circular às quartas-feiras.\n",
        "   #Carros cujo último dígito da placa seja 7 ou 8 só podem circular às quintas-feiras.\n",
        "   #Carros cujo último dígito da placa seja 9 ou 0 só podem circular às sextas-feiras.\n",
        "\n",
        "# Escreva um programa em Python que, dado o último dígito da placa de um carro, determine em qual dia da semana ele pode circular.\n",
        "\n",
        "x = int(input(\"Último dígito da placa: \"))\n",
        "print()\n",
        "\n",
        "if x == 1 or x == 2:\n",
        "  print(\"Você só pode circular segunda-feira.\")\n",
        "\n",
        "elif x == 3 or x == 4:\n",
        "  print(\"Você só pode circular terça-feira.\")\n",
        "\n",
        "elif x == 5 or x == 6:\n",
        "  print(\"Você só pode circular quarta-feira.\")\n",
        "\n",
        "elif x == 7 or x == 8:\n",
        "  print(\"Você só pode circular quinta-feira.\")\n",
        "\n",
        "elif x == 9 or x == 0:\n",
        "  print(\"Você só pode circular sexta-feira.\")\n",
        "\n",
        "else:\n",
        "  print(\"O número não está nos parâmetros.\")"
      ],
      "metadata": {
        "colab": {
          "base_uri": "https://localhost:8080/"
        },
        "id": "JJorzztA32UM",
        "outputId": "6eeafa4e-afd8-476b-fbda-69cf80603259"
      },
      "execution_count": 87,
      "outputs": [
        {
          "output_type": "stream",
          "name": "stdout",
          "text": [
            "Último dígito da placa: 4\n",
            "\n",
            "Você só pode circular terça-feira.\n"
          ]
        }
      ]
    }
  ]
}