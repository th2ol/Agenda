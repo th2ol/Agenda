{
  "nbformat": 4,
  "nbformat_minor": 0,
  "metadata": {
    "colab": {
      "provenance": [],
      "authorship_tag": "ABX9TyMAc2N/WRPJAXUhyYjl5lqT",
      "include_colab_link": true
    },
    "kernelspec": {
      "name": "python3",
      "display_name": "Python 3"
    },
    "language_info": {
      "name": "python"
    }
  },
  "cells": [
    {
      "cell_type": "markdown",
      "metadata": {
        "id": "view-in-github",
        "colab_type": "text"
      },
      "source": [
        "<a href=\"https://colab.research.google.com/github/th2ol/Agenda/blob/main/Atividade29.02.2024.ipynb\" target=\"_parent\"><img src=\"https://colab.research.google.com/assets/colab-badge.svg\" alt=\"Open In Colab\"/></a>"
      ]
    },
    {
      "cell_type": "markdown",
      "source": [
        "#Atividade 02\n",
        "29/02/2024\n",
        "\n",
        "Thiago Hansell 2OL\n"
      ],
      "metadata": {
        "id": "17d-AUo3-D7W"
      }
    },
    {
      "cell_type": "code",
      "source": [
        "nome = input(\"Qual é o seu nome?  {\")\n",
        "senha = input(\"Digite a senha:\")\n",
        "\n",
        "if nome == 'Thiago' and senha == '123A':\n",
        "  print(\"Login efetuado com sucesso!\")\n",
        "else:\n",
        "  print(\"Usuário e/ou senha errado(os), tente novamente.\")"
      ],
      "metadata": {
        "colab": {
          "base_uri": "https://localhost:8080/",
          "height": 158
        },
        "id": "qo6fm-wL-NAq",
        "outputId": "70325ad8-b42c-44d1-a01c-06ba0b17075c"
      },
      "execution_count": 12,
      "outputs": [
        {
          "output_type": "stream",
          "name": "stdout",
          "text": [
            "Qual é o seu nome?  {Thiago\n",
            "Digite a senha:123A\n",
            "Login efetuado com sucesso!\n"
          ]
        },
        {
          "output_type": "error",
          "ename": "SyntaxError",
          "evalue": "'return' outside function (<ipython-input-12-0b647e8739fd>, line 8)",
          "traceback": [
            "\u001b[0;36m  File \u001b[0;32m\"<ipython-input-12-0b647e8739fd>\"\u001b[0;36m, line \u001b[0;32m8\u001b[0m\n\u001b[0;31m    return nome\u001b[0m\n\u001b[0m    ^\u001b[0m\n\u001b[0;31mSyntaxError\u001b[0m\u001b[0;31m:\u001b[0m 'return' outside function\n"
          ]
        }
      ]
    }
  ]
}