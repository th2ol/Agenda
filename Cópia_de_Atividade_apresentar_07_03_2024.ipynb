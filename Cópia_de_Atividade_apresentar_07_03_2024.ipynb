{
  "nbformat": 4,
  "nbformat_minor": 0,
  "metadata": {
    "colab": {
      "provenance": [],
      "authorship_tag": "ABX9TyPn68+iy9bMGdE4mWMmu+OY",
      "include_colab_link": true
    },
    "kernelspec": {
      "name": "python3",
      "display_name": "Python 3"
    },
    "language_info": {
      "name": "python"
    }
  },
  "cells": [
    {
      "cell_type": "markdown",
      "metadata": {
        "id": "view-in-github",
        "colab_type": "text"
      },
      "source": [
        "<a href=\"https://colab.research.google.com/github/th2ol/Agenda/blob/main/C%C3%B3pia_de_Atividade_apresentar_07_03_2024.ipynb\" target=\"_parent\"><img src=\"https://colab.research.google.com/assets/colab-badge.svg\" alt=\"Open In Colab\"/></a>"
      ]
    },
    {
      "cell_type": "markdown",
      "source": [
        "#Atividade\n",
        "Aluno: Thiago Hansell\n",
        "\n",
        "Turma 2OL"
      ],
      "metadata": {
        "id": "WMtBh5se2joq"
      }
    },
    {
      "cell_type": "code",
      "execution_count": null,
      "metadata": {
        "colab": {
          "base_uri": "https://localhost:8080/"
        },
        "id": "QzCuZEKx2Xzs",
        "outputId": "957de469-686d-4286-8332-0f5e9d4985ee"
      },
      "outputs": [
        {
          "output_type": "stream",
          "name": "stdout",
          "text": [
            "Qual é o seu nome?  {A\n",
            "Digite a senha:A\n",
            "Login efetuado com sucesso!\n",
            "Manu aberto:\n",
            "\n",
            "1. Cadastro direto\n",
            "2. Cadastro de professor\n",
            "3. Cadastro de aluno\n",
            "4. Calculadora\n",
            "\n",
            "Informe a opção | 4\n",
            "\n",
            "Escolheu Calculadora.\n",
            "\n",
            "Qual é a operação? +\n",
            "valor a :4\n",
            "valor b :97\n",
            "101.0\n",
            "\n",
            "Nenhum dado cadastrado.\n"
          ]
        }
      ],
      "source": [
        "nome = input(\"Qual é o seu nome?  {\")\n",
        "senha = input(\"Digite a senha:\")\n",
        "\n",
        "if nome == 'admin' and senha == 'admin':\n",
        "  print(\"Login efetuado com sucesso!\")\n",
        "  print(\"Manu aberto:\")\n",
        "  print()\n",
        "  print(\"1. Cadastro direto\")\n",
        "  print(\"2. Cadastro de professor\")\n",
        "  print(\"3. Cadastro de aluno\")\n",
        "  print(\"4. Calculadora\")\n",
        "  print()\n",
        "  n = int(input(\"Informe a opção | \"))\n",
        "  print()\n",
        "  if n == 1:\n",
        "    print(\"Escolheu Cadastro direto.\")\n",
        "    print()\n",
        "    nome1 = input(\"Cadastre seu nome:  \")\n",
        "    senha1 = input(\"Cadastre uma senha:  \")\n",
        "    ID1 = int(input(\"Cadastre um ID:  \"))\n",
        "    print()\n",
        "    print(\"Dados cadastrados:\")\n",
        "    print(\"Cadastro direto: (nome:\", nome1,\"; senha:\", senha1,\"; ID:\", ID1,\")\")\n",
        "    print()\n",
        "    print(\"Cadastro de professor: (nome: -- ; matéria: -- ; senha: -- ; ID: --)\")\n",
        "    print()\n",
        "    print(\"Cadastro de aluno: (matéria: -- ; senha: -- ; nome: -- ; ano letivo: --)\")\n",
        "    print()\n",
        "  elif n == 2:\n",
        "    print(\"Escolheu Cadastro de professor.\")\n",
        "    print()\n",
        "    nome2 = input(\"Cadastre seu nome:  \")\n",
        "    materia2 = input(\"Olá professor, informe sua matéria lecionada: \")\n",
        "    senha2 = input(\"Cadastre uma senha:  \")\n",
        "    ID2 = int(input(\"Cadastre um ID:  \"))\n",
        "    print()\n",
        "    print(\"Dados cadastrados:\")\n",
        "    print(\"Cadastro direto: (nome: -- ; senha: -- ; ID: --)\")\n",
        "    print()\n",
        "    print(\"Cadastro de professor: (nome:\", nome2,\"; matéria:\", materia2,\"; senha:\", senha2,\"; ID:\",ID2,\")\")\n",
        "    print()\n",
        "    print(\"Cadastro de aluno: (matéria: -- ; senha: -- ; nome: -- ; ano letivo: --)\")\n",
        "    print()\n",
        "  elif n == 3:\n",
        "    print(\"Escolheu Cadastro de aluno.\")\n",
        "    print()\n",
        "    materia3 = input(\"Olá aluno, informe sua matéria de estudo: \")\n",
        "    senha3 = input(\"Cadastre uma senha:  \")\n",
        "    nome3 = input(\"Cadastre seu nome: \")\n",
        "    anoletivo = input(\"Informe seu ano letivo: \")\n",
        "    print()\n",
        "    print(\"Dados cadastrados:\")\n",
        "    print(\"Cadastro direto: (nome: -- ; senha: -- ; ID: --)\")\n",
        "    print()\n",
        "    print(\"Cadastro de professor: (nome: -- ; matéria: -- ; senha: -- ; ID: --)\")\n",
        "    print()\n",
        "    print(\"Cadastro de aluno: (matéria:\",materia3, \"; senha:\",senha3,\"; nome:\",nome3,\"; ano letivo:\",anoletivo,\")\")\n",
        "    print()\n",
        "  elif n == 4:\n",
        "     print(\"Escolheu Calculadora.\")\n",
        "     print()\n",
        "     o = input(\"Qual é a operação? \")\n",
        "     a = float(input(\"valor a :\"))\n",
        "     b = float(input(\"valor b :\"))\n",
        "\n",
        "     if o == \"+\":\n",
        "       print(a+b)\n",
        "     elif o == \"-\":\n",
        "       print(a-b)\n",
        "     elif o == \"x\":\n",
        "       print(a*b)\n",
        "     elif o == \"/\":\n",
        "       if b == 0:\n",
        "         print(\"indeterminado\")\n",
        "       else:\n",
        "         print(a/b)\n",
        "     elif o == \"%\":\n",
        "       print((a/100)*b)\n",
        "     elif o == \"*\":\n",
        "       print(a**b)\n",
        "     elif o == \"r\":\n",
        "       print(b**(1/a))\n",
        "\n",
        "     else:\n",
        "      print(\"erro de sinal\")\n",
        "     print()\n",
        "     print(\"Nenhum dado cadastrado.\")\n",
        "\n",
        "  else:\n",
        "     print(\"Escolha uma opção entre 1 e 4!\")\n",
        "\n",
        "else:\n",
        "  print(\"Usuário e/ou senha errado(os), tente novamente.\")"
      ]
    }
  ]
}