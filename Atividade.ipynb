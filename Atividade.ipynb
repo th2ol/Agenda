{
  "nbformat": 4,
  "nbformat_minor": 0,
  "metadata": {
    "colab": {
      "provenance": [],
      "authorship_tag": "ABX9TyMMQQDmsRc8y16anukOgqKD",
      "include_colab_link": true
    },
    "kernelspec": {
      "name": "python3",
      "display_name": "Python 3"
    },
    "language_info": {
      "name": "python"
    }
  },
  "cells": [
    {
      "cell_type": "markdown",
      "metadata": {
        "id": "view-in-github",
        "colab_type": "text"
      },
      "source": [
        "<a href=\"https://colab.research.google.com/github/th2ol/Agenda/blob/main/Atividade.ipynb\" target=\"_parent\"><img src=\"https://colab.research.google.com/assets/colab-badge.svg\" alt=\"Open In Colab\"/></a>"
      ]
    },
    {
      "cell_type": "code",
      "execution_count": 10,
      "metadata": {
        "id": "wfctxIs5Lg5T",
        "colab": {
          "base_uri": "https://localhost:8080/"
        },
        "outputId": "53d9fcbc-e9f2-4cc3-a30c-225d2f8d39a1"
      },
      "outputs": [
        {
          "output_type": "stream",
          "name": "stdout",
          "text": [
            "valor a ser verificado: 1\n",
            "não está entre 10 e 20\n"
          ]
        }
      ],
      "source": [
        "#1. Escreva um programa que solicita ao usuário para inserir um número e, em seguida, verifica se o número está entre 10 e 20.\n",
        "\n",
        "x = float(input(\"valor a ser verificado: \"))\n",
        "if not 10<x<20:\n",
        "  print(\"não está entre 10 e 20\")\n",
        "else:\n",
        "  print(\"está entre 10 e 20\")"
      ]
    },
    {
      "cell_type": "code",
      "source": [
        "# 2. Escreva um programa que pede a idade de uma pessoa e se ela tem autorização dos pais para assistir a um filme classificado como \"para maiores de 18 anos\"\n",
        "\n",
        "idade = float(input(\"idade: \"))\n",
        "if not idade > 18:\n",
        "  print(\"nâo tem autorização dos pais.\")\n",
        "else:\n",
        "  print(\"sim, tem a autorização dos pais.\")"
      ],
      "metadata": {
        "colab": {
          "base_uri": "https://localhost:8080/"
        },
        "id": "fK_pL4KQPgnz",
        "outputId": "6776f92a-e888-43a6-94c8-4a18a0e7cb8d"
      },
      "execution_count": 15,
      "outputs": [
        {
          "output_type": "stream",
          "name": "stdout",
          "text": [
            "idade: 19\n",
            "sim, tem a autorização dos pais.\n"
          ]
        }
      ]
    },
    {
      "cell_type": "code",
      "source": [
        "# 3. Escreva um programa que solicita ao usuário para inserir um número e, em seguida, verifica se o número é positivo e ímpar.\n",
        "\n",
        "x = float(input(\"Número: \"))\n",
        "if x > 0 and x%2 != 0:\n",
        "  print(\"O número\", x, \"é positivo e ímpar.\")\n",
        "else:\n",
        "  print(\"O número\", x, \"não é positivo e ímpar.\")"
      ],
      "metadata": {
        "colab": {
          "base_uri": "https://localhost:8080/"
        },
        "id": "ugBlZz-BQWsQ",
        "outputId": "40ac7e5b-4383-4c85-bbac-67c37a7979e3"
      },
      "execution_count": 39,
      "outputs": [
        {
          "output_type": "stream",
          "name": "stdout",
          "text": [
            "Número: -9\n",
            "O número -9.0 não é positivo e ímpar.\n"
          ]
        }
      ]
    },
    {
      "cell_type": "code",
      "source": [
        "# 4. Faça um programa que determine se um triângulo é equilátero, isósceles ou escaleno.\n",
        "\n",
        "# Sabemos que:\n",
        "# • Triângulo Equilátero: três lados iguais;\n",
        "# • Triângulo Isósceles: quaisquer dois lados iguais;\n",
        "# • Triângulo Escaleno: três lados diferentes;\n",
        "\n",
        "a = float(input(\"Lado 1: \"))\n",
        "b = float(input(\"Lado 2: \"))\n",
        "c = float(input(\"Lado 3: \"))\n",
        "\n",
        "if a == b == c:\n",
        "  print(\"O triângulo é equilátero.\")\n",
        "elif a == b != c or a == c != b or a != b == c:\n",
        "  print(\"O triângulo é isórceles.\")\n",
        "else:\n",
        "  print(\"O triângulo é escaleno.\")"
      ],
      "metadata": {
        "colab": {
          "base_uri": "https://localhost:8080/"
        },
        "id": "iDmqQWdNTlhq",
        "outputId": "d65b5c8b-9793-4c61-d9db-5ab24d94c7a4"
      },
      "execution_count": 45,
      "outputs": [
        {
          "output_type": "stream",
          "name": "stdout",
          "text": [
            "Número: 2\n",
            "Número: 1\n",
            "Número: 1\n",
            "iso\n"
          ]
        }
      ]
    }
  ]
}